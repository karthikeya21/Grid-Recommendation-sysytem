{
 "cells": [
  {
   "cell_type": "code",
   "execution_count": 2,
   "metadata": {},
   "outputs": [],
   "source": [
    "import numpy as np\n",
    "import pandas as pd\n",
    "from sklearn.model_selection import train_test_split\n",
    "from sklearn.preprocessing import LabelEncoder, MinMaxScaler\n",
    "from tensorflow.keras.models import Model\n",
    "from tensorflow.keras.layers import Input, Embedding, Flatten, Dense, Concatenate, Dropout\n",
    "from tensorflow.keras.optimizers import Adam"
   ]
  },
  {
   "cell_type": "code",
   "execution_count": 3,
   "metadata": {},
   "outputs": [],
   "source": [
    "# Generating synthetic data\n",
    "num_users = 1000\n",
    "num_products = 500\n",
    "interaction_data = []\n",
    "\n",
    "for _ in range(5000):\n",
    "    user = np.random.randint(0, num_users)\n",
    "    product = np.random.randint(0, num_products)\n",
    "    interaction = np.random.uniform(0, 5)  # Simulate interaction scores between 0 and 5\n",
    "    interaction_data.append([user, product, interaction])\n",
    "\n",
    "interaction_df = pd.DataFrame(interaction_data, columns=['user_id', 'product_id', 'interaction'])"
   ]
  },
  {
   "cell_type": "code",
   "execution_count": 4,
   "metadata": {},
   "outputs": [],
   "source": [
    "# Preprocessing the data\n",
    "encoder = LabelEncoder()\n",
    "interaction_df['user_id'] = encoder.fit_transform(interaction_df['user_id'])\n",
    "interaction_df['product_id'] = encoder.fit_transform(interaction_df['product_id'])\n",
    "\n",
    "scaler = MinMaxScaler()\n",
    "interaction_df['interaction'] = scaler.fit_transform(interaction_df['interaction'].values.reshape(-1, 1))\n",
    "\n",
    "train_data, test_data = train_test_split(interaction_df, test_size=0.2, random_state=42)"
   ]
  },
  {
   "cell_type": "code",
   "execution_count": 5,
   "metadata": {},
   "outputs": [],
   "source": [
    "# Model design\n",
    "user_input = Input(shape=(1,))\n",
    "product_input = Input(shape=(1,))\n",
    "user_embedding = Embedding(input_dim=num_users, output_dim=50)(user_input)\n",
    "product_embedding = Embedding(input_dim=num_products, output_dim=50)(product_input)\n",
    "user_flat = Flatten()(user_embedding)\n",
    "product_flat = Flatten()(product_embedding)\n",
    "concatenated = Concatenate()([user_flat, product_flat])\n",
    "fc1 = Dense(128, activation='relu')(concatenated)\n",
    "dropout1 = Dropout(0.3)(fc1)\n",
    "fc2 = Dense(64, activation='relu')(dropout1)\n",
    "dropout2 = Dropout(0.3)(fc2)\n",
    "output = Dense(1, activation='linear')(dropout2)\n",
    "\n",
    "model = Model(inputs=[user_input, product_input], outputs=output)\n",
    "model.compile(optimizer=Adam(learning_rate=0.001), loss='mean_squared_error')"
   ]
  },
  {
   "cell_type": "code",
   "execution_count": 6,
   "metadata": {},
   "outputs": [
    {
     "name": "stdout",
     "output_type": "stream",
     "text": [
      "Epoch 1/20\n",
      "57/57 [==============================] - 2s 10ms/step - loss: 0.1251 - val_loss: 0.0773\n",
      "Epoch 2/20\n",
      "57/57 [==============================] - 0s 4ms/step - loss: 0.0807 - val_loss: 0.0795\n",
      "Epoch 3/20\n",
      "57/57 [==============================] - 0s 4ms/step - loss: 0.0722 - val_loss: 0.0873\n",
      "Epoch 4/20\n",
      "57/57 [==============================] - 0s 6ms/step - loss: 0.0627 - val_loss: 0.0924\n",
      "Epoch 5/20\n",
      "57/57 [==============================] - 0s 4ms/step - loss: 0.0557 - val_loss: 0.0960\n",
      "Epoch 6/20\n",
      "57/57 [==============================] - 0s 3ms/step - loss: 0.0499 - val_loss: 0.1015\n",
      "Epoch 7/20\n",
      "57/57 [==============================] - 0s 4ms/step - loss: 0.0424 - val_loss: 0.1008\n",
      "Epoch 8/20\n",
      "57/57 [==============================] - 0s 4ms/step - loss: 0.0363 - val_loss: 0.1048\n",
      "Epoch 9/20\n",
      "57/57 [==============================] - 0s 5ms/step - loss: 0.0288 - val_loss: 0.1055\n",
      "Epoch 10/20\n",
      "57/57 [==============================] - 0s 4ms/step - loss: 0.0242 - val_loss: 0.1085\n",
      "Epoch 11/20\n",
      "57/57 [==============================] - 0s 4ms/step - loss: 0.0220 - val_loss: 0.1119\n",
      "Epoch 12/20\n",
      "57/57 [==============================] - 0s 5ms/step - loss: 0.0201 - val_loss: 0.1095\n",
      "Epoch 13/20\n",
      "57/57 [==============================] - 0s 4ms/step - loss: 0.0183 - val_loss: 0.1087\n",
      "Epoch 14/20\n",
      "57/57 [==============================] - 0s 4ms/step - loss: 0.0179 - val_loss: 0.1058\n",
      "Epoch 15/20\n",
      "57/57 [==============================] - 0s 4ms/step - loss: 0.0163 - val_loss: 0.1060\n",
      "Epoch 16/20\n",
      "57/57 [==============================] - 0s 4ms/step - loss: 0.0150 - val_loss: 0.1068\n",
      "Epoch 17/20\n",
      "57/57 [==============================] - 0s 4ms/step - loss: 0.0145 - val_loss: 0.1085\n",
      "Epoch 18/20\n",
      "57/57 [==============================] - 0s 5ms/step - loss: 0.0139 - val_loss: 0.1093\n",
      "Epoch 19/20\n",
      "57/57 [==============================] - 0s 4ms/step - loss: 0.0126 - val_loss: 0.1066\n",
      "Epoch 20/20\n",
      "57/57 [==============================] - 0s 4ms/step - loss: 0.0133 - val_loss: 0.1072\n"
     ]
    },
    {
     "data": {
      "text/plain": [
       "<keras.src.callbacks.History at 0x2672f99a950>"
      ]
     },
     "execution_count": 6,
     "metadata": {},
     "output_type": "execute_result"
    }
   ],
   "source": [
    "# Model training\n",
    "model.fit([train_data['user_id'], train_data['product_id']], train_data['interaction'],\n",
    "          batch_size=64, epochs=20, validation_split=0.1)"
   ]
  },
  {
   "cell_type": "code",
   "execution_count": 7,
   "metadata": {},
   "outputs": [
    {
     "name": "stdout",
     "output_type": "stream",
     "text": [
      "16/16 [==============================] - 0s 2ms/step\n"
     ]
    }
   ],
   "source": [
    "# Generating personalized rankings for a specific user\n",
    "user_id = encoder.transform([10])  # Can be replace with the desired user ID\n",
    "product_ids = np.arange(num_products)\n",
    "product_ids_encoded = encoder.transform(product_ids)\n",
    "ranking_scores = model.predict([np.array([user_id] * num_products), product_ids_encoded]).flatten()"
   ]
  },
  {
   "cell_type": "code",
   "execution_count": 8,
   "metadata": {},
   "outputs": [],
   "source": [
    "# Sort product IDs based on ranking scores to get top 10 recommended products\n",
    "top_product_indices = np.argsort(ranking_scores)[::-1][:10]"
   ]
  },
  {
   "cell_type": "code",
   "execution_count": 9,
   "metadata": {},
   "outputs": [
    {
     "name": "stdout",
     "output_type": "stream",
     "text": [
      "Top 10 Recommended Products for USER ID: 10\n",
      "Rank 1: Product ID:36 (Ranking Score: 0.9441)\n",
      "Rank 2: Product ID:421 (Ranking Score: 0.9412)\n",
      "Rank 3: Product ID:353 (Ranking Score: 0.8885)\n",
      "Rank 4: Product ID:254 (Ranking Score: 0.8841)\n",
      "Rank 5: Product ID:82 (Ranking Score: 0.8615)\n",
      "Rank 6: Product ID:349 (Ranking Score: 0.8326)\n",
      "Rank 7: Product ID:226 (Ranking Score: 0.8240)\n",
      "Rank 8: Product ID:149 (Ranking Score: 0.8216)\n",
      "Rank 9: Product ID:108 (Ranking Score: 0.8184)\n",
      "Rank 10: Product ID:475 (Ranking Score: 0.8153)\n"
     ]
    }
   ],
   "source": [
    "# Displaying top 10 recommended products\n",
    "print(\"Top 10 Recommended Products for USER ID:\",user_id[0])\n",
    "for rank, product_idx in enumerate(top_product_indices, start=1):\n",
    "    original_product_id = encoder.inverse_transform([product_idx])[0]\n",
    "    print(f\"Rank {rank}: Product ID:{original_product_id} (Ranking Score: {ranking_scores[product_idx]:.4f})\")"
   ]
  }
 ],
 "metadata": {
  "kernelspec": {
   "display_name": "base",
   "language": "python",
   "name": "python3"
  },
  "language_info": {
   "codemirror_mode": {
    "name": "ipython",
    "version": 3
   },
   "file_extension": ".py",
   "mimetype": "text/x-python",
   "name": "python",
   "nbconvert_exporter": "python",
   "pygments_lexer": "ipython3",
   "version": "3.10.9"
  },
  "orig_nbformat": 4
 },
 "nbformat": 4,
 "nbformat_minor": 2
}
